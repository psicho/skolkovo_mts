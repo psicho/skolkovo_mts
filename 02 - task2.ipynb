{
 "cells": [
  {
   "cell_type": "code",
   "execution_count": 61,
   "metadata": {},
   "outputs": [],
   "source": [
    "import pandas as pd\n",
    "from pandas import DataFrame as df"
   ]
  },
  {
   "cell_type": "code",
   "execution_count": 71,
   "metadata": {},
   "outputs": [],
   "source": [
    "toys = pd.read_csv(\"toy_data.csv\")"
   ]
  },
  {
   "cell_type": "code",
   "execution_count": 64,
   "metadata": {},
   "outputs": [
    {
     "data": {
      "text/html": [
       "<div>\n",
       "<style scoped>\n",
       "    .dataframe tbody tr th:only-of-type {\n",
       "        vertical-align: middle;\n",
       "    }\n",
       "\n",
       "    .dataframe tbody tr th {\n",
       "        vertical-align: top;\n",
       "    }\n",
       "\n",
       "    .dataframe thead th {\n",
       "        text-align: right;\n",
       "    }\n",
       "</style>\n",
       "<table border=\"1\" class=\"dataframe\">\n",
       "  <thead>\n",
       "    <tr style=\"text-align: right;\">\n",
       "      <th></th>\n",
       "      <th>production time</th>\n",
       "      <th>cost in rubles</th>\n",
       "    </tr>\n",
       "  </thead>\n",
       "  <tbody>\n",
       "    <tr>\n",
       "      <th>19995</th>\n",
       "      <td>18085</td>\n",
       "      <td>38489</td>\n",
       "    </tr>\n",
       "    <tr>\n",
       "      <th>19996</th>\n",
       "      <td>96506</td>\n",
       "      <td>195441</td>\n",
       "    </tr>\n",
       "    <tr>\n",
       "      <th>19997</th>\n",
       "      <td>96190</td>\n",
       "      <td>194792</td>\n",
       "    </tr>\n",
       "    <tr>\n",
       "      <th>19998</th>\n",
       "      <td>37602</td>\n",
       "      <td>77101</td>\n",
       "    </tr>\n",
       "    <tr>\n",
       "      <th>19999</th>\n",
       "      <td>76461</td>\n",
       "      <td>154954</td>\n",
       "    </tr>\n",
       "  </tbody>\n",
       "</table>\n",
       "</div>"
      ],
      "text/plain": [
       "       production time  cost in rubles\n",
       "19995            18085           38489\n",
       "19996            96506          195441\n",
       "19997            96190          194792\n",
       "19998            37602           77101\n",
       "19999            76461          154954"
      ]
     },
     "execution_count": 64,
     "metadata": {},
     "output_type": "execute_result"
    }
   ],
   "source": [
    "toys.tail()"
   ]
  },
  {
   "cell_type": "code",
   "execution_count": 65,
   "metadata": {},
   "outputs": [
    {
     "data": {
      "text/plain": [
       "(1, 99215)"
      ]
     },
     "execution_count": 65,
     "metadata": {},
     "output_type": "execute_result"
    }
   ],
   "source": [
    "toys['production time'].min(), toys['production time'].max()"
   ]
  },
  {
   "cell_type": "code",
   "execution_count": 66,
   "metadata": {},
   "outputs": [
    {
     "data": {
      "text/plain": [
       "(1, 199144)"
      ]
     },
     "execution_count": 66,
     "metadata": {},
     "output_type": "execute_result"
    }
   ],
   "source": [
    "toys['cost in rubles'].min(), toys['cost in rubles'].max()"
   ]
  },
  {
   "cell_type": "code",
   "execution_count": 67,
   "metadata": {
    "scrolled": true
   },
   "outputs": [
    {
     "data": {
      "text/html": [
       "<div>\n",
       "<style scoped>\n",
       "    .dataframe tbody tr th:only-of-type {\n",
       "        vertical-align: middle;\n",
       "    }\n",
       "\n",
       "    .dataframe tbody tr th {\n",
       "        vertical-align: top;\n",
       "    }\n",
       "\n",
       "    .dataframe thead th {\n",
       "        text-align: right;\n",
       "    }\n",
       "</style>\n",
       "<table border=\"1\" class=\"dataframe\">\n",
       "  <thead>\n",
       "    <tr style=\"text-align: right;\">\n",
       "      <th></th>\n",
       "      <th>production time</th>\n",
       "      <th>cost in rubles</th>\n",
       "    </tr>\n",
       "  </thead>\n",
       "  <tbody>\n",
       "  </tbody>\n",
       "</table>\n",
       "</div>"
      ],
      "text/plain": [
       "Empty DataFrame\n",
       "Columns: [production time, cost in rubles]\n",
       "Index: []"
      ]
     },
     "execution_count": 67,
     "metadata": {},
     "output_type": "execute_result"
    }
   ],
   "source": [
    "toys[toys['production time']*toys['cost in rubles'] == 2]"
   ]
  },
  {
   "cell_type": "markdown",
   "metadata": {},
   "source": [
    "#### Находим самую минимальную по цене и времени игрушку"
   ]
  },
  {
   "cell_type": "code",
   "execution_count": 43,
   "metadata": {
    "scrolled": true
   },
   "outputs": [
    {
     "name": "stdout",
     "output_type": "stream",
     "text": [
      "Минимальная стоимость: 1, минимальное время: 1\n"
     ]
    }
   ],
   "source": [
    "min_seb = 10**8\n",
    "i_n = 0 \n",
    "for i in range(len(toys['production time'])):\n",
    "    if (toys['production time'][i]*toys['cost in rubles'][i] < min_seb):\n",
    "        min_seb = toys['production time'][i]*toys['cost in rubles'][i]\n",
    "        i_n = i\n",
    "#         print(i, min_seb)\n",
    "print(f\"Минимальная стоимость: {toys['cost in rubles'][i_n]}, минимальное время: {toys['production time'][i_n]}\")"
   ]
  },
  {
   "cell_type": "code",
   "execution_count": null,
   "metadata": {},
   "outputs": [],
   "source": [
    "#### Находим самое наибольшее соотношение стоимости ко времени производства"
   ]
  },
  {
   "cell_type": "code",
   "execution_count": 48,
   "metadata": {},
   "outputs": [
    {
     "name": "stdout",
     "output_type": "stream",
     "text": [
      "Cтоимость: 6036, время: 2584, соотношение: 2.3359133126934983, Индекс: 13712\n"
     ]
    }
   ],
   "source": [
    "max_gain = 0\n",
    "counter = 0 \n",
    "for i in range(len(toys['production time'])):\n",
    "    if (toys['cost in rubles'][i]/toys['production time'][i] > max_gain):\n",
    "        max_gain = toys['cost in rubles'][i]/toys['production time'][i]\n",
    "        counter = i\n",
    "#         print(i, min_seb)\n",
    "print(f\"Cтоимость: {toys['cost in rubles'][counter]}, время: {toys['production time'][counter]}, соотношение: {toys['cost in rubles'][counter]/toys['production time'][counter]}, Индекс: {counter}\")"
   ]
  },
  {
   "cell_type": "markdown",
   "metadata": {},
   "source": [
    "#### Считаем рабочее время в последнем квартале в секундах"
   ]
  },
  {
   "cell_type": "code",
   "execution_count": 90,
   "metadata": {},
   "outputs": [
    {
     "data": {
      "text/plain": [
       "1872000"
      ]
     },
     "execution_count": 90,
     "metadata": {},
     "output_type": "execute_result"
    }
   ],
   "source": [
    "kvartal_work_time = (23 + 20 + 22) * 8 * 60 * 60\n",
    "kvartal_work_time"
   ]
  },
  {
   "cell_type": "code",
   "execution_count": 91,
   "metadata": {},
   "outputs": [
    {
     "data": {
      "text/plain": [
       "724"
      ]
     },
     "execution_count": 91,
     "metadata": {},
     "output_type": "execute_result"
    }
   ],
   "source": [
    "amount_toy_13712 = kvartal_work_time // toys['production time'][counter]\n",
    "amount_toy_13712"
   ]
  },
  {
   "cell_type": "code",
   "execution_count": 72,
   "metadata": {},
   "outputs": [
    {
     "data": {
      "text/html": [
       "<div>\n",
       "<style scoped>\n",
       "    .dataframe tbody tr th:only-of-type {\n",
       "        vertical-align: middle;\n",
       "    }\n",
       "\n",
       "    .dataframe tbody tr th {\n",
       "        vertical-align: top;\n",
       "    }\n",
       "\n",
       "    .dataframe thead th {\n",
       "        text-align: right;\n",
       "    }\n",
       "</style>\n",
       "<table border=\"1\" class=\"dataframe\">\n",
       "  <thead>\n",
       "    <tr style=\"text-align: right;\">\n",
       "      <th></th>\n",
       "      <th>production time</th>\n",
       "      <th>cost in rubles</th>\n",
       "      <th>Стоимость / время</th>\n",
       "    </tr>\n",
       "  </thead>\n",
       "  <tbody>\n",
       "    <tr>\n",
       "      <th>0</th>\n",
       "      <td>37348</td>\n",
       "      <td>76806</td>\n",
       "      <td>2.056496</td>\n",
       "    </tr>\n",
       "    <tr>\n",
       "      <th>1</th>\n",
       "      <td>95509</td>\n",
       "      <td>193309</td>\n",
       "      <td>2.023987</td>\n",
       "    </tr>\n",
       "    <tr>\n",
       "      <th>2</th>\n",
       "      <td>95925</td>\n",
       "      <td>194174</td>\n",
       "      <td>2.024227</td>\n",
       "    </tr>\n",
       "    <tr>\n",
       "      <th>3</th>\n",
       "      <td>69288</td>\n",
       "      <td>139732</td>\n",
       "      <td>2.016684</td>\n",
       "    </tr>\n",
       "    <tr>\n",
       "      <th>4</th>\n",
       "      <td>57295</td>\n",
       "      <td>117034</td>\n",
       "      <td>2.042656</td>\n",
       "    </tr>\n",
       "  </tbody>\n",
       "</table>\n",
       "</div>"
      ],
      "text/plain": [
       "   production time  cost in rubles  Стоимость / время\n",
       "0            37348           76806           2.056496\n",
       "1            95509          193309           2.023987\n",
       "2            95925          194174           2.024227\n",
       "3            69288          139732           2.016684\n",
       "4            57295          117034           2.042656"
      ]
     },
     "execution_count": 72,
     "metadata": {},
     "output_type": "execute_result"
    }
   ],
   "source": [
    "toys.insert(loc=len(toys.columns), column='Стоимость / время', value=toys['cost in rubles']/toys['production time'] )\n",
    "toys.head()"
   ]
  },
  {
   "cell_type": "code",
   "execution_count": 82,
   "metadata": {},
   "outputs": [],
   "source": [
    "toy = toys.sort_values(by = ['Стоимость / время'], ascending = [False])"
   ]
  },
  {
   "cell_type": "code",
   "execution_count": 86,
   "metadata": {},
   "outputs": [
    {
     "data": {
      "text/html": [
       "<div>\n",
       "<style scoped>\n",
       "    .dataframe tbody tr th:only-of-type {\n",
       "        vertical-align: middle;\n",
       "    }\n",
       "\n",
       "    .dataframe tbody tr th {\n",
       "        vertical-align: top;\n",
       "    }\n",
       "\n",
       "    .dataframe thead th {\n",
       "        text-align: right;\n",
       "    }\n",
       "</style>\n",
       "<table border=\"1\" class=\"dataframe\">\n",
       "  <thead>\n",
       "    <tr style=\"text-align: right;\">\n",
       "      <th></th>\n",
       "      <th>production time</th>\n",
       "      <th>cost in rubles</th>\n",
       "      <th>Стоимость / время</th>\n",
       "    </tr>\n",
       "  </thead>\n",
       "  <tbody>\n",
       "    <tr>\n",
       "      <th>17733</th>\n",
       "      <td>1</td>\n",
       "      <td>1</td>\n",
       "      <td>1.0</td>\n",
       "    </tr>\n",
       "  </tbody>\n",
       "</table>\n",
       "</div>"
      ],
      "text/plain": [
       "       production time  cost in rubles  Стоимость / время\n",
       "17733                1               1                1.0"
      ]
     },
     "execution_count": 86,
     "metadata": {},
     "output_type": "execute_result"
    }
   ],
   "source": [
    "toy[toy['production time'] == 1]"
   ]
  },
  {
   "cell_type": "code",
   "execution_count": 94,
   "metadata": {},
   "outputs": [],
   "source": [
    "# Рассчитаем сколько войдет самых эффективных игрушек по времени квартала"
   ]
  },
  {
   "cell_type": "code",
   "execution_count": 97,
   "metadata": {},
   "outputs": [
    {
     "name": "stdout",
     "output_type": "stream",
     "text": [
      "Максимальный доход: 3850188, Остаток рабочего времени: 0, id_toys: [0, 42, 74, 429, 2626, 4489, 17733]\n"
     ]
    }
   ],
   "source": [
    "# kvartal_work_time - всего рабочего времени в квартале\n",
    "all_gain = 0 # Максимальный доход\n",
    "volum_time = kvartal_work_time # Остаток рабочего времени\n",
    "id_toys = []\n",
    "\n",
    "for i in range(len(toys['production time'])):\n",
    "    if volum_time >= toy['production time'][i]:\n",
    "        amount_toy = volum_time // toy['production time'][i]\n",
    "        cost_toys = amount_toy * toy['cost in rubles'][i]\n",
    "        all_gain += cost_toys\n",
    "        volum_time -= toy['production time'][i] * amount_toy\n",
    "        id_toys.append(i)\n",
    "print(f\"Максимальный доход: {all_gain}, Остаток рабочего времени: {volum_time}, id_toys: {id_toys}\")"
   ]
  },
  {
   "cell_type": "code",
   "execution_count": null,
   "metadata": {},
   "outputs": [],
   "source": []
  }
 ],
 "metadata": {
  "kernelspec": {
   "display_name": "Python 3",
   "language": "python",
   "name": "python3"
  },
  "language_info": {
   "codemirror_mode": {
    "name": "ipython",
    "version": 3
   },
   "file_extension": ".py",
   "mimetype": "text/x-python",
   "name": "python",
   "nbconvert_exporter": "python",
   "pygments_lexer": "ipython3",
   "version": "3.6.7"
  }
 },
 "nbformat": 4,
 "nbformat_minor": 2
}
